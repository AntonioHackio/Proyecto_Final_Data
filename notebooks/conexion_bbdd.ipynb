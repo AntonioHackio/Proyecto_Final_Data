{
 "cells": [
  {
   "cell_type": "code",
   "execution_count": 1,
   "metadata": {},
   "outputs": [],
   "source": [
    "import pandas as pd\n",
    "import numpy as np\n",
    "import psycopg2 as ps"
   ]
  },
  {
   "cell_type": "code",
   "execution_count": 2,
   "metadata": {},
   "outputs": [],
   "source": [
    "df_cursos = pd.read_csv('../data_clean/cursos_final.csv', sep=';')\n",
    "df_leads = pd.read_csv('../data_clean/leads_final.csv', sep=';')\n",
    "df_contacto = pd.read_csv('../data_clean/primer_contacto_final.csv', sep=';')\n",
    "df_seguimiento = pd.read_csv('../data_clean/seguimiento_final.csv', sep=';')\n",
    "df_tecnologias = pd.read_csv('../data_clean/tecnologias_final.csv', sep=';')\n"
   ]
  },
  {
   "cell_type": "code",
   "execution_count": 3,
   "metadata": {},
   "outputs": [],
   "source": [
    "conn = ps.connect(\n",
    "    dbname=\"Leads\",\n",
    "    user=\"my_user\",\n",
    "    password=\"admin\",\n",
    "    host=\"localhost\",\n",
    "    port=\"5432\"\n",
    ")"
   ]
  },
  {
   "cell_type": "code",
   "execution_count": 4,
   "metadata": {},
   "outputs": [],
   "source": [
    "cur = conn.cursor()"
   ]
  },
  {
   "cell_type": "code",
   "execution_count": 5,
   "metadata": {},
   "outputs": [
    {
     "data": {
      "text/plain": [
       "('PostgreSQL 14.13 (Homebrew) on aarch64-apple-darwin23.4.0, compiled by Apple clang version 15.0.0 (clang-1500.3.9.4), 64-bit',)"
      ]
     },
     "execution_count": 5,
     "metadata": {},
     "output_type": "execute_result"
    }
   ],
   "source": [
    "cur.execute(\"SELECT version();\")\n",
    "cur.fetchone()"
   ]
  },
  {
   "cell_type": "code",
   "execution_count": null,
   "metadata": {},
   "outputs": [],
   "source": [
    "d_insert_tecnologias = []"
   ]
  },
  {
   "cell_type": "code",
   "execution_count": null,
   "metadata": {},
   "outputs": [],
   "source": [
    "for i, row in df_tecnologias.iterrows():\n",
    "    tecnologia_id = int(row['tecnologia_id'])\n",
    "    nombre = row['nombre']\n",
    "\n",
    "    d_insert_tecnologias.append((tecnologia_id,nombre))\n"
   ]
  },
  {
   "cell_type": "code",
   "execution_count": null,
   "metadata": {},
   "outputs": [],
   "source": [
    "query_tecnologias = \"\"\"\n",
    "    INSERT INTO tecnologias (tecnologia_id,nombre)\n",
    "    VALUES (%s, %s)\n",
    "\"\"\""
   ]
  },
  {
   "cell_type": "code",
   "execution_count": null,
   "metadata": {},
   "outputs": [],
   "source": [
    "cur.executemany(query_tecnologias, d_insert_tecnologias)\n",
    "conn.commit()"
   ]
  },
  {
   "cell_type": "code",
   "execution_count": null,
   "metadata": {},
   "outputs": [],
   "source": [
    "cur.execute(\"SELECT setval('tecnologias_tecnologia_id_seq', (SELECT MAX(tecnologia_id) FROM tecnologias));\")\n",
    "conn.commit()"
   ]
  },
  {
   "cell_type": "code",
   "execution_count": 6,
   "metadata": {},
   "outputs": [],
   "source": [
    "d_insert_cursos = []"
   ]
  },
  {
   "cell_type": "code",
   "execution_count": 7,
   "metadata": {},
   "outputs": [],
   "source": [
    "for i, row in df_cursos.iterrows():\n",
    "    curso_id = (row['curso_id'])\n",
    "    nombre = row['nombre']\n",
    "    modalidad = row['modalidad'] if pd.notna(row['modalidad']) else None\n",
    "    duracion_meses = int(row['duracion_meses']) if pd.notna(row['duracion_meses']) else None\n",
    "    horas_totales = int(row['horas_totales']) if pd.notna(row['horas_totales']) else None\n",
    "    precio_base = float(row['precio_base']) if pd.notna(row['precio_base']) else None\n",
    "    precio_descuento = float(row['precio_descuento']) if pd.notna(row['precio_descuento']) else None\n",
    "    nivel = row['nivel'] if pd.notna(row['nivel']) else None\n",
    "    requisitos_previos = row['requisitos_previos'] if pd.notna(row['requisitos_previos']) else None\n",
    "    fecha_inicio_proxima = pd.to_datetime(row['fecha_inicio_proxima']).date() if pd.notna(row['fecha_inicio_proxima']) else None\n",
    "    plazas_disponibles = int(row['plazas_disponibles']) if pd.notna(row['plazas_disponibles']) else None\n",
    "    rating = float(row['rating']) if pd.notna(row['rating']) else None\n",
    "    empleabilidad = float(row['empleabilidad']) if pd.notna(row['empleabilidad']) else None\n",
    "    url_dossier = row['url_dossier'] if pd.notna(row['url_dossier']) else None\n",
    "    descripcion = row['descripcion'] if pd.notna(row['descripcion']) else None\n",
    "    certificacion_oficial = bool(row['certificacion_oficial'])if pd.notna(row['certificacion_oficial']) else False\n",
    "\n",
    "    d_insert_cursos.append((\n",
    "        curso_id, nombre, modalidad, duracion_meses, horas_totales, precio_base, \n",
    "        precio_descuento, nivel, requisitos_previos, fecha_inicio_proxima, \n",
    "        plazas_disponibles, rating, empleabilidad, url_dossier, descripcion, \n",
    "        certificacion_oficial\n",
    "    ))"
   ]
  },
  {
   "cell_type": "code",
   "execution_count": 8,
   "metadata": {},
   "outputs": [],
   "source": [
    "query_cursos= \"\"\"\n",
    "INSERT INTO cursos (curso_id, nombre, modalidad, duracion_meses, horas_totales,\n",
    "precio_base, precio_descuento, nivel, requisitos_previos,\n",
    "fecha_inicio_proxima, plazas_disponibles, rating, empleabilidad,\n",
    "url_dossier, descripcion, certificacion_oficial)\n",
    "VALUES (%s, %s, %s, %s, %s, %s, %s, %s, %s, %s, %s, %s, %s, %s, %s, %s)\n",
    "\"\"\""
   ]
  },
  {
   "cell_type": "code",
   "execution_count": 9,
   "metadata": {},
   "outputs": [],
   "source": [
    "cur.executemany(query_cursos, d_insert_cursos)\n",
    "conn.commit()"
   ]
  },
  {
   "cell_type": "code",
   "execution_count": 10,
   "metadata": {},
   "outputs": [],
   "source": [
    "cur.close()\n",
    "conn.close()"
   ]
  }
 ],
 "metadata": {
  "kernelspec": {
   "display_name": ".venv",
   "language": "python",
   "name": "python3"
  },
  "language_info": {
   "codemirror_mode": {
    "name": "ipython",
    "version": 3
   },
   "file_extension": ".py",
   "mimetype": "text/x-python",
   "name": "python",
   "nbconvert_exporter": "python",
   "pygments_lexer": "ipython3",
   "version": "3.12.5"
  }
 },
 "nbformat": 4,
 "nbformat_minor": 2
}
