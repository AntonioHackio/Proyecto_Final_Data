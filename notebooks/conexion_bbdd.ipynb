{
 "cells": [
  {
   "cell_type": "code",
   "execution_count": null,
   "metadata": {},
   "outputs": [],
   "source": [
    "import pandas as pd\n",
    "import numpy as np\n",
    "import psycopg2 as ps"
   ]
  },
  {
   "cell_type": "code",
   "execution_count": null,
   "metadata": {},
   "outputs": [],
   "source": [
    "df_cursos = pd.read_csv('../data_clean/cursos_final.csv', sep=';')\n",
    "df_leads = pd.read_csv('../data_clean/leads_final.csv', sep=';')\n",
    "df_contacto = pd.read_csv('../data_clean/primer_contacto_final.csv', sep=';')\n",
    "df_seguimiento = pd.read_csv('../data_clean/seguimiento_final.csv', sep=';')\n",
    "df_tecnologias = pd.read_csv('../data_clean/tecnologias_final.csv', sep=';')\n"
   ]
  },
  {
   "cell_type": "code",
   "execution_count": null,
   "metadata": {},
   "outputs": [],
   "source": [
    "conn = ps.connect(\n",
    "    dbname=\"Leads\",\n",
    "    user=\"my_user\",\n",
    "    password=\"admin\",\n",
    "    host=\"localhost\",\n",
    "    port=\"5432\"\n",
    ")"
   ]
  },
  {
   "cell_type": "code",
   "execution_count": null,
   "metadata": {},
   "outputs": [],
   "source": [
    "cur = conn.cursor()"
   ]
  },
  {
   "cell_type": "code",
   "execution_count": null,
   "metadata": {},
   "outputs": [],
   "source": [
    "cur.execute(\"SELECT version();\")\n",
    "cur.fetchone()"
   ]
  },
  {
   "cell_type": "code",
   "execution_count": null,
   "metadata": {},
   "outputs": [],
   "source": [
    "d_insert_tecnologias = []"
   ]
  },
  {
   "cell_type": "code",
   "execution_count": null,
   "metadata": {},
   "outputs": [],
   "source": [
    "for i, row in df_tecnologias.iterrows():\n",
    "    tecnologia_id = int(row['tecnologia_id'])\n",
    "    nombre = row['nombre']\n",
    "\n",
    "    d_insert_tecnologias.append((tecnologia_id,nombre))\n"
   ]
  },
  {
   "cell_type": "code",
   "execution_count": null,
   "metadata": {},
   "outputs": [],
   "source": [
    "query_tecnologias = \"\"\"\n",
    "    INSERT INTO tecnologias (tecnologia_id,nombre)\n",
    "    VALUES (%s, %s)\n",
    "\"\"\""
   ]
  },
  {
   "cell_type": "code",
   "execution_count": null,
   "metadata": {},
   "outputs": [],
   "source": [
    "cur.executemany(query_tecnologias, d_insert_tecnologias)\n",
    "conn.commit()"
   ]
  },
  {
   "cell_type": "code",
   "execution_count": null,
   "metadata": {},
   "outputs": [],
   "source": [
    "cur.execute(\"SELECT setval('tecnologias_tecnologia_id_seq', (SELECT MAX(tecnologia_id) FROM tecnologias));\")\n",
    "conn.commit()"
   ]
  },
  {
   "cell_type": "code",
   "execution_count": null,
   "metadata": {},
   "outputs": [],
   "source": [
    "d_insert_cursos = []"
   ]
  },
  {
   "cell_type": "code",
   "execution_count": null,
   "metadata": {},
   "outputs": [],
   "source": [
    "for i, row in df_cursos.iterrows():\n",
    "    curso_id = (row['curso_id'])\n",
    "    nombre = row['nombre']\n",
    "    modalidad = row['modalidad'] if pd.notna(row['modalidad']) else None\n",
    "    duracion_meses = int(row['duracion_meses']) if pd.notna(row['duracion_meses']) else None\n",
    "    horas_totales = int(row['horas_totales']) if pd.notna(row['horas_totales']) else None\n",
    "    precio_base = float(row['precio_base']) if pd.notna(row['precio_base']) else None\n",
    "    precio_descuento = float(row['precio_descuento']) if pd.notna(row['precio_descuento']) else None\n",
    "    nivel = row['nivel'] if pd.notna(row['nivel']) else None\n",
    "    requisitos_previos = row['requisitos_previos'] if pd.notna(row['requisitos_previos']) else None\n",
    "    fecha_inicio_proxima = pd.to_datetime(row['fecha_inicio_proxima']).date() if pd.notna(row['fecha_inicio_proxima']) else None\n",
    "    plazas_disponibles = int(row['plazas_disponibles']) if pd.notna(row['plazas_disponibles']) else None\n",
    "    rating = float(row['rating']) if pd.notna(row['rating']) else None\n",
    "    empleabilidad = float(row['empleabilidad']) if pd.notna(row['empleabilidad']) else None\n",
    "    url_dossier = row['url_dossier'] if pd.notna(row['url_dossier']) else None\n",
    "    descripcion = row['descripcion'] if pd.notna(row['descripcion']) else None\n",
    "    certificacion_oficial = bool(row['certificacion_oficial']) if pd.notna(row['certificacion_oficial']) else False\n",
    "\n",
    "    d_insert_cursos.append((\n",
    "        curso_id, nombre, modalidad, duracion_meses, horas_totales, precio_base, \n",
    "        precio_descuento, nivel, requisitos_previos, fecha_inicio_proxima, \n",
    "        plazas_disponibles, rating, empleabilidad, url_dossier, descripcion, \n",
    "        certificacion_oficial\n",
    "    ))"
   ]
  },
  {
   "cell_type": "code",
   "execution_count": null,
   "metadata": {},
   "outputs": [],
   "source": [
    "query_cursos= \"\"\"\n",
    "INSERT INTO cursos (curso_id, nombre, modalidad, duracion_meses, horas_totales,\n",
    "precio_base, precio_descuento, nivel, requisitos_previos,\n",
    "fecha_inicio_proxima, plazas_disponibles, rating, empleabilidad,\n",
    "url_dossier, descripcion, certificacion_oficial)\n",
    "VALUES (%s, %s, %s, %s, %s, %s, %s, %s, %s, %s, %s, %s, %s, %s, %s, %s)\n",
    "\"\"\""
   ]
  },
  {
   "cell_type": "code",
   "execution_count": null,
   "metadata": {},
   "outputs": [],
   "source": [
    "cur.executemany(query_cursos, d_insert_cursos)\n",
    "conn.commit()"
   ]
  },
  {
   "cell_type": "code",
   "execution_count": null,
   "metadata": {},
   "outputs": [],
   "source": [
    "d_insert_leads = []\n",
    "\n",
    "for i, row in df_leads.iterrows():\n",
    "    lead_id = int(row['lead_id']) if pd.notna(row['lead_id']) else None\n",
    "    curso_interes_id = int(row['curso_interes_id']) if pd.notna(row['curso_interes_id']) else None\n",
    "    curso_interes_nombre = row['curso_interes_nombre'] if pd.notna(row['curso_interes_nombre']) else None\n",
    "    fecha_registro = pd.to_datetime(row['fecha_registro']).date() if pd.notna(row['fecha_registro']) else None\n",
    "    fuente = row['fuente'] if pd.notna(row['fuente']) else None\n",
    "    campana = row['campana'] if pd.notna(row['campana']) else None\n",
    "    nombre = row['nombre'] if pd.notna(row['nombre']) else None\n",
    "    apellidos = row['apellidos'] if pd.notna(row['apellidos']) else None\n",
    "    email = row['email'] if pd.notna(row['email']) else None\n",
    "    telefono = row['telefono'] if pd.notna(row['telefono']) else None\n",
    "    edad = int(row['edad']) if pd.notna(row['edad']) else None\n",
    "    ciudad = row['ciudad'] if pd.notna(row['ciudad']) else None\n",
    "    provincia = row['provincia'] if pd.notna(row['provincia']) else None\n",
    "    nivel_estudios = row['nivel_estudios'] if pd.notna(row['nivel_estudios']) else None\n",
    "    situacion_laboral = row['situacion_laboral'] if pd.notna(row['situacion_laboral']) else None\n",
    "    objetivo_profesional = row['objetivo_profesional'] if pd.notna(row['objetivo_profesional']) else None\n",
    "    presupuesto_estimado = float(row['presupuesto_estimado']) if pd.notna(row['presupuesto_estimado']) else None\n",
    "    urgencia_formacion = row['urgencia_formacion'] if pd.notna(row['urgencia_formacion']) else None\n",
    "    dispositivo_registro = row['dispositivo_registro'] if pd.notna(row['dispositivo_registro']) else None\n",
    "    horario_preferido = row['horario_preferido'] if pd.notna(row['horario_preferido']) else None\n",
    "    modalidad_preferida = row['modalidad_preferida'] if pd.notna(row['modalidad_preferida']) else None\n",
    "    comercial_asignado = row['comercial_asignado'] if pd.notna(row['comercial_asignado']) else None\n",
    "    lead_score = float(row['lead_score']) if pd.notna(row['lead_score']) else None\n",
    "\n",
    "    d_insert_leads.append((\n",
    "        lead_id, curso_interes_id, curso_interes_nombre, fecha_registro, fuente, campana,\n",
    "        nombre, apellidos, email, telefono, edad, ciudad, provincia, nivel_estudios,\n",
    "        situacion_laboral, objetivo_profesional, presupuesto_estimado, urgencia_formacion,\n",
    "        dispositivo_registro, horario_preferido, modalidad_preferida, comercial_asignado, lead_score\n",
    "    ))\n",
    "\n",
    "query_leads = \"\"\"\n",
    "INSERT INTO leads (lead_id, curso_interes_id, curso_interes_nombre, fecha_registro, fuente, campana,\n",
    "nombre, apellidos, email, telefono, edad, ciudad, provincia, nivel_estudios,\n",
    "situacion_laboral, objetivo_profesional, presupuesto_estimado, urgencia_formacion,\n",
    "dispositivo_registro, horario_preferido, modalidad_preferida, comercial_asignado, lead_score)\n",
    "VALUES (%s, %s, %s, %s, %s, %s, %s, %s, %s, %s, %s, %s, %s, %s, %s, %s, %s, %s, %s, %s, %s, %s, %s)\n",
    "ON CONFLICT (email) DO NOTHING\n",
    "\n",
    "\"\"\"\n",
    "cur.executemany(query_leads, d_insert_leads)\n",
    "conn.commit()"
   ]
  },
  {
   "cell_type": "code",
   "execution_count": null,
   "metadata": {},
   "outputs": [],
   "source": [
    "d_insert_contactos = []\n",
    "\n",
    "for i, row in df_contacto.iterrows():\n",
    "    contacto_id = int(row['contacto_id']) if pd.notna(row['contacto_id']) else None\n",
    "    lead_id = int(row['lead_id']) if pd.notna(row['lead_id']) else None\n",
    "    fecha_contacto = pd.to_datetime(row['fecha_contacto']).date() if pd.notna(row['fecha_contacto']) else None\n",
    "    hora_contacto = pd.to_datetime(row['hora_contacto']).time() if pd.notna(row['hora_contacto']) else None\n",
    "    medio_contacto = row['medio_contacto'] if pd.notna(row['medio_contacto']) else None\n",
    "    comercial = row['comercial'] if pd.notna(row['comercial']) else None\n",
    "    estado_contacto = row['estado_contacto'] if pd.notna(row['estado_contacto']) else None\n",
    "    duracion_contacto_min = int(row['duracion_contacto_min']) if pd.notna(row['duracion_contacto_min']) else None\n",
    "    nivel_interes = row['nivel_interes'] if pd.notna(row['nivel_interes']) else None\n",
    "    objeciones_principales = row['objeciones_principales'] if pd.notna(row['objeciones_principales']) else None\n",
    "    notas_adicionales = row['notas_adicionales'] if pd.notna(row['notas_adicionales']) else None\n",
    "    interes_otros_cursos = bool(row['interes_otros_cursos']) if pd.notna(row['interes_otros_cursos']) else False\n",
    "    areas_interes_adicional = row['areas_interes_adicional'] if pd.notna(row['areas_interes_adicional']) else None\n",
    "    presupuesto_confirmado = float(row['presupuesto_confirmado']) if pd.notna(row['presupuesto_confirmado']) else None\n",
    "    preferencia_fecha_inicio = pd.to_datetime(row['preferencia_fecha_inicio']).date() if pd.notna(row['preferencia_fecha_inicio']) else None\n",
    "    preferencia_financiacion = row['preferencia_financiacion'] if pd.notna(row['preferencia_financiacion']) else None\n",
    "    disponibilidad_horaria_detallada = row['disponibilidad_horaria_detallada'] if pd.notna(row['disponibilidad_horaria_detallada']) else None\n",
    "    conocimiento_competencia = row['conocimiento_competencia'] if pd.notna(row['conocimiento_competencia']) else None\n",
    "    referenciado_por = row['referenciado_por'] if pd.notna(row['referenciado_por']) else None\n",
    "    proxima_accion = row['proxima_accion'] if pd.notna(row['proxima_accion']) else None\n",
    "    fecha_proxima_accion = pd.to_datetime(row['fecha_proxima_accion']).date() if pd.notna(row['fecha_proxima_accion']) else None\n",
    "\n",
    "    d_insert_contactos.append((\n",
    "        contacto_id, lead_id, fecha_contacto, hora_contacto, medio_contacto, comercial,\n",
    "        estado_contacto, duracion_contacto_min, nivel_interes, objeciones_principales,\n",
    "        notas_adicionales, interes_otros_cursos, areas_interes_adicional, presupuesto_confirmado,\n",
    "        preferencia_fecha_inicio, preferencia_financiacion, disponibilidad_horaria_detallada,\n",
    "        conocimiento_competencia, referenciado_por, proxima_accion, fecha_proxima_accion\n",
    "    ))\n",
    "\n",
    "query_contactos = \"\"\"\n",
    "INSERT INTO contactos (contacto_id, lead_id, fecha_contacto, hora_contacto, medio_contacto, comercial,\n",
    "estado_contacto, duracion_contacto_min, nivel_interes, objeciones_principales,\n",
    "notas_adicionales, interes_otros_cursos, areas_interes_adicional, presupuesto_confirmado,\n",
    "preferencia_fecha_inicio, preferencia_financiacion, disponibilidad_horaria_detallada,\n",
    "conocimiento_competencia, referenciado_por, proxima_accion, fecha_proxima_accion)\n",
    "VALUES (%s, %s, %s, %s, %s, %s, %s, %s, %s, %s, %s, %s, %s, %s, %s, %s, %s, %s, %s, %s, %s)\n",
    "\"\"\"\n",
    "\n",
    "cur.executemany(query_contactos, d_insert_contactos)\n",
    "conn.commit()"
   ]
  },
  {
   "cell_type": "code",
   "execution_count": null,
   "metadata": {},
   "outputs": [],
   "source": [
    "d_insert_seguimientos = []\n",
    "\n",
    "for i, row in df_seguimiento.iterrows():\n",
    "    seguimiento_id = int(row['seguimiento_id']) if pd.notna(row['seguimiento_id']) else None\n",
    "    lead_id = int(row['lead_id']) if pd.notna(row['lead_id']) else None\n",
    "    contacto_id = int(row['contacto_id']) if pd.notna(row['contacto_id']) else None\n",
    "    curso_final_id = int(row['curso_final_id']) if pd.notna(row['curso_final_id']) else None\n",
    "    curso_final_nombre = row['curso_final_nombre'] if pd.notna(row['curso_final_nombre']) else None\n",
    "    comercial = row['comercial'] if pd.notna(row['comercial']) else None\n",
    "    closer = row['closer'] if pd.notna(row['closer']) else None\n",
    "    num_interacciones = int(row['num_interacciones']) if pd.notna(row['num_interacciones']) else None\n",
    "    fecha_ultima_interaccion = pd.to_datetime(row['fecha_ultima_interaccion']).date() if pd.notna(row['fecha_ultima_interaccion']) else None\n",
    "    tipo_ultima_interaccion = row['tipo_ultima_interaccion'] if pd.notna(row['tipo_ultima_interaccion']) else None\n",
    "    duracion_proceso_dias = int(row['duracion_proceso_dias']) if pd.notna(row['duracion_proceso_dias']) else None\n",
    "    estado_final = row['estado_final'] if pd.notna(row['estado_final']) else None\n",
    "    conversion = bool(row['conversion']) if pd.notna(row['conversion']) else False\n",
    "    cambio_curso = bool(row['cambio_curso']) if pd.notna(row['cambio_curso']) else False\n",
    "    descuento_aplicado = float(row['descuento_aplicado']) if pd.notna(row['descuento_aplicado']) else None\n",
    "    promocion_aplicada = row['promocion_aplicada'] if pd.notna(row['promocion_aplicada']) else None\n",
    "    precio_final = float(row['precio_final']) if pd.notna(row['precio_final']) else None\n",
    "    metodo_pago = row['metodo_pago'] if pd.notna(row['metodo_pago']) else None\n",
    "    financiacion = row['financiacion'] if pd.notna(row['financiacion']) else None\n",
    "    modalidad_final = row['modalidad_final'] if pd.notna(row['modalidad_final']) else None\n",
    "    fecha_matricula = pd.to_datetime(row['fecha_matricula']).date() if pd.notna(row['fecha_matricula']) else None\n",
    "    fecha_inicio_curso = pd.to_datetime(row['fecha_inicio_curso']).date() if pd.notna(row['fecha_inicio_curso']) else None\n",
    "    motivo_no_conversion = row['motivo_no_conversion'] if pd.notna(row['motivo_no_conversion']) else None\n",
    "    probabilidad_retorno = row['probabilidad_retorno'] if pd.notna(row['probabilidad_retorno']) else None\n",
    "    valoracion_experiencia = int(row['valoracion_experiencia']) if pd.notna(row['valoracion_experiencia']) else None\n",
    "    feedback_proceso = row['feedback_proceso'] if pd.notna(row['feedback_proceso']) else None\n",
    "\n",
    "    d_insert_seguimientos.append((\n",
    "        seguimiento_id, lead_id, contacto_id, curso_final_id, curso_final_nombre, comercial,\n",
    "        closer, num_interacciones, fecha_ultima_interaccion, tipo_ultima_interaccion,\n",
    "        duracion_proceso_dias, estado_final, conversion, cambio_curso, descuento_aplicado,\n",
    "        promocion_aplicada, precio_final, metodo_pago, financiacion, modalidad_final,\n",
    "        fecha_matricula, fecha_inicio_curso, motivo_no_conversion, probabilidad_retorno,\n",
    "        valoracion_experiencia, feedback_proceso\n",
    "    ))\n",
    "\n",
    "query_seguimientos = \"\"\"\n",
    "INSERT INTO seguimientos (seguimiento_id, lead_id, contacto_id, curso_final_id, curso_final_nombre, comercial,\n",
    "closer, num_interacciones, fecha_ultima_interaccion, tipo_ultima_interaccion,\n",
    "duracion_proceso_dias, estado_final, conversion, cambio_curso, descuento_aplicado,\n",
    "promocion_aplicada, precio_final, metodo_pago, financiacion, modalidad_final,\n",
    "fecha_matricula, fecha_inicio_curso, motivo_no_conversion, probabilidad_retorno,\n",
    "valoracion_experiencia, feedback_proceso)\n",
    "VALUES (%s, %s, %s, %s, %s, %s, %s, %s, %s, %s, %s, %s, %s, %s, %s, %s, %s, %s, %s, %s, %s, %s, %s, %s, %s, %s)\n",
    "\"\"\"\n",
    "\n",
    "cur.executemany(query_seguimientos, d_insert_seguimientos)\n",
    "conn.commit()"
   ]
  },
  {
   "cell_type": "code",
   "execution_count": null,
   "metadata": {},
   "outputs": [],
   "source": [
    "cur.close()\n",
    "conn.close()"
   ]
  }
 ],
 "metadata": {
  "kernelspec": {
   "display_name": ".venv",
   "language": "python",
   "name": "python3"
  },
  "language_info": {
   "codemirror_mode": {
    "name": "ipython",
    "version": 3
   },
   "file_extension": ".py",
   "mimetype": "text/x-python",
   "name": "python",
   "nbconvert_exporter": "python",
   "pygments_lexer": "ipython3",
   "version": "3.12.5"
  }
 },
 "nbformat": 4,
 "nbformat_minor": 2
}
