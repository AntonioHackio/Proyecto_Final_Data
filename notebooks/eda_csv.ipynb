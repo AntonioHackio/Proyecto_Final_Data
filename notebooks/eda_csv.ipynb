{
 "cells": [
  {
   "cell_type": "markdown",
   "id": "87c21287",
   "metadata": {},
   "source": [
    "\"\"\"\n",
    "RESUMEN DE TRANSFORMACIONES APLICADAS:\n",
    "\n",
    "1. LEADS:\n",
    "   - Normalización de nombres de columnas\n",
    "   - Validación de teléfonos (formato español)\n",
    "   - Procesamiento robusto de edad con tipo Int64\n",
    "   - Conversión de formato europeo de números\n",
    "   - Validación de escalas (urgencia 1-5, lead_score 0-100)\n",
    "   - Creación de categorías demográficas y de negocio\n",
    "\n",
    "2. CURSOS:\n",
    "   - Eliminación de registros inválidos\n",
    "   - Normalización de texto y espacios\n",
    "   - Conversión de tipos numéricos\n",
    "   - Formateo de fechas\n",
    "   - Cálculo de métricas derivadas (descuento, intensidad)\n",
    "   - Categorización por precio\n",
    "\n",
    "3. SEGUIMIENTO:\n",
    "   - Eliminación de columnas irrelevantes\n",
    "   - Conversión de fechas y booleanos\n",
    "   - Limpieza robusta de columnas numéricas\n",
    "   - Normalización de categorías (Title Case)\n",
    "   - Eliminación de valores negativos\n",
    "   - Deduplicación por ID\n",
    "\n",
    "4. PRIMER CONTACTO:\n",
    "   - Eliminación de columnas irrelevantes\n",
    "   - Limpieza completa de texto\n",
    "   - Procesamiento de fechas y horas (formato SQL)\n",
    "   - Imputación inteligente de valores faltantes\n",
    "   - Conversión de tipos optimizados\n",
    "   - Deduplicación completa\n",
    "\n",
    "ARCHIVOS GENERADOS:\n",
    "- leads_limpio.csv\n",
    "- cursos_limpio.csv  \n",
    "- seguimiento_limpio.csv\n",
    "- primer_contacto_limpio.csv\n",
    "\n",
    "Los datos están ahora listos para análisis exploratorio, visualización\n",
    "y modelado predictivo.\n",
    "\"\"\""
   ]
  },
  {
   "cell_type": "code",
   "execution_count": null,
   "id": "39957bdf",
   "metadata": {},
   "outputs": [],
   "source": [
    "import pandas as pd\n",
    "import numpy as np\n",
    "import matplotlib as plt\n",
    "import gspread\n",
    "from google.oauth2.service_account import Credentials"
   ]
  },
  {
   "cell_type": "markdown",
   "id": "6723bccd",
   "metadata": {},
   "source": [
    "# Analizamos los datos del fichero 'Leads'"
   ]
  },
  {
   "cell_type": "code",
   "execution_count": null,
   "id": "1cd441b0",
   "metadata": {},
   "outputs": [],
   "source": [
    "df_leads = pd.read_csv('../data/Leads.csv',\n",
    "                          sep=';',\n",
    "                          header=0,\n",
    "                          index_col=False,\n",
    "                          encoding='utf-8')\n"
   ]
  },
  {
   "cell_type": "code",
   "execution_count": null,
   "id": "07d92f4c",
   "metadata": {},
   "outputs": [],
   "source": [
    "df_leads"
   ]
  },
  {
   "cell_type": "code",
   "execution_count": null,
   "id": "d070e711",
   "metadata": {},
   "outputs": [],
   "source": [
    "df_leads.shape"
   ]
  },
  {
   "cell_type": "code",
   "execution_count": null,
   "id": "92d08dcb",
   "metadata": {},
   "outputs": [],
   "source": [
    "df_leads.columns"
   ]
  },
  {
   "cell_type": "code",
   "execution_count": null,
   "id": "8e62c126",
   "metadata": {},
   "outputs": [],
   "source": [
    "df_leads.info()"
   ]
  },
  {
   "cell_type": "code",
   "execution_count": null,
   "id": "d76cded9",
   "metadata": {},
   "outputs": [],
   "source": [
    "#df_leads.columns = df_leads.columns.str.strip()\n",
    "df_leads.columns = df_leads.columns.str.lower()"
   ]
  },
  {
   "cell_type": "code",
   "execution_count": null,
   "id": "5850fe1e",
   "metadata": {},
   "outputs": [],
   "source": [
    "df_leads.columns"
   ]
  },
  {
   "cell_type": "code",
   "execution_count": null,
   "id": "f831f153",
   "metadata": {},
   "outputs": [],
   "source": [
    "if 'fecha_registro' in df_leads.columns:\n",
    "    df_leads['fecha_registro'] = pd.to_datetime(df_leads['fecha_registro'])"
   ]
  },
  {
   "cell_type": "code",
   "execution_count": null,
   "id": "b1baff39",
   "metadata": {},
   "outputs": [],
   "source": [
    "if 'telefono' in df_leads.columns:\n",
    "    df_leads['telefono'] = df_leads['telefono'].astype(str)"
   ]
  },
  {
   "cell_type": "code",
   "execution_count": null,
   "id": "20fb1ee8",
   "metadata": {},
   "outputs": [],
   "source": [
    "df_leads.loc[df_leads[\"telefono\"].str.len() > 9,\"telefono\"] = None"
   ]
  },
  {
   "cell_type": "code",
   "execution_count": null,
   "id": "bb5978b2",
   "metadata": {},
   "outputs": [],
   "source": [
    "if 'edad' in df_leads.columns:\n",
    "    df_leads['edad'] = pd.to_numeric(df_leads[\"edad\"], errors= \"coerce\")\n",
    "    df_leads['edad'] = df_leads['edad'].fillna(0).astype(int)\n",
    "    df_leads['edad'] = df_leads['edad'].replace(0, np.nan)\n",
    "    df_leads[\"edad\"] = df_leads[\"edad\"].astype('Int64')\n",
    "    "
   ]
  },
  {
   "cell_type": "code",
   "execution_count": null,
   "id": "4d09170a",
   "metadata": {},
   "outputs": [],
   "source": [
    "df_leads['presupuesto_estimado']  "
   ]
  },
  {
   "cell_type": "code",
   "execution_count": null,
   "id": "a5d2ba07",
   "metadata": {},
   "outputs": [],
   "source": [
    "df_leads ['presupuesto_estimado'] = df_leads ['presupuesto_estimado'].str.replace('.', '').str.replace(',', '.').astype(float)\n"
   ]
  },
  {
   "cell_type": "code",
   "execution_count": null,
   "id": "afe29667",
   "metadata": {},
   "outputs": [],
   "source": [
    "df_leads ['presupuesto_estimado']"
   ]
  },
  {
   "cell_type": "code",
   "execution_count": null,
   "id": "b9102dc7",
   "metadata": {},
   "outputs": [],
   "source": [
    "df_leads['presupuesto_estimado'] = df_leads['presupuesto_estimado'].fillna(0)\n",
    "df_leads['presupuesto_estimado'] = df_leads['presupuesto_estimado'].round(2).astype(float)\n"
   ]
  },
  {
   "cell_type": "code",
   "execution_count": null,
   "id": "428301c7",
   "metadata": {},
   "outputs": [],
   "source": [
    "df_leads ['presupuesto_estimado']"
   ]
  },
  {
   "cell_type": "code",
   "execution_count": null,
   "id": "8f72aadc",
   "metadata": {},
   "outputs": [],
   "source": [
    "if 'urgencia_formacion' in df_leads.columns:\n",
    "    df_leads['urgencia_formacion'] = pd.to_numeric(df_leads['urgencia_formacion'], errors='coerce')\n",
    "    df_leads['urgencia_formacion'] = df_leads['urgencia_formacion'].apply(lambda x: np.nan if pd.notna(x) and x > 5 else x)\n",
    "    df_leads['urgencia_formacion'] = df_leads['urgencia_formacion'].astype('Int64')\n",
    "    "
   ]
  },
  {
   "cell_type": "code",
   "execution_count": null,
   "id": "ea410d91",
   "metadata": {},
   "outputs": [],
   "source": [
    "if 'lead_score' in df_leads.columns:\n",
    "    df_leads['lead_score'] = pd.to_numeric(df_leads['lead_score'], errors='coerce')\n",
    "    df_leads['lead_score'] = df_leads['lead_score'].apply(lambda x: np.nan if pd.notna(x) and x > 100 else x)\n",
    "    df_leads['lead_score'] = df_leads['lead_score'].astype('Int64')"
   ]
  },
  {
   "cell_type": "code",
   "execution_count": null,
   "id": "f32924ea",
   "metadata": {},
   "outputs": [],
   "source": [
    "if 'codigo' in df_leads.columns:\n",
    "    df_leads['codigo'] = df_leads['codigo'].astype(int)"
   ]
  },
  {
   "cell_type": "code",
   "execution_count": null,
   "id": "55ea4d02",
   "metadata": {},
   "outputs": [],
   "source": [
    "text_columns = ['nombre', 'apellidos', 'email', 'ciudad', 'provincia', 'nivel_estudios', 'situacion_laboral', 'objetivo_profesional','dispositivo_registro', 'horario_preferido', 'modalidad_preferida',\n",
    "'comercial_asignado', 'fuente', 'campana']"
   ]
  },
  {
   "cell_type": "code",
   "execution_count": null,
   "id": "28c2eaf4",
   "metadata": {},
   "outputs": [],
   "source": [
    "for col in text_columns:\n",
    "    if col in df_leads.columns:\n",
    "        df_leads[col] = df_leads[col].str.strip()\n",
    "        if col in ['nombre', 'apellidos', 'ciudad', 'provincia', 'comercial_asignado']:\n",
    "            df_leads[col] = df_leads[col].str.title()"
   ]
  },
  {
   "cell_type": "code",
   "execution_count": null,
   "id": "bf8cd4d9",
   "metadata": {},
   "outputs": [],
   "source": [
    "df_leads['email'] = df_leads['email'].str.lower()\n"
   ]
  },
  {
   "cell_type": "code",
   "execution_count": null,
   "id": "192e3419",
   "metadata": {},
   "outputs": [],
   "source": [
    "if 'lead_id' in df_leads.columns:\n",
    "    duplicados_id = df_leads['lead_id'].duplicated().sum()"
   ]
  },
  {
   "cell_type": "code",
   "execution_count": null,
   "id": "713aa36b",
   "metadata": {},
   "outputs": [],
   "source": [
    "if 'email' in df_leads.columns:\n",
    "    duplicados_email = df_leads['email'].duplicated().sum()\n",
    "    print(f\"Duplicados por email: {duplicados_email}\")\n",
    "    if duplicados_email > 0:\n",
    "        print(\"Emails duplicados:\")\n",
    "        print(df_leads[df_leads['email'].duplicated(keep=False)]['email'].value_counts())"
   ]
  },
  {
   "cell_type": "code",
   "execution_count": 100,
   "id": "ea7d5751",
   "metadata": {},
   "outputs": [],
   "source": [
    "duplicados_totales = df_leads.duplicated().sum()\n",
    "if duplicados_totales > 0:\n",
    "    df_leads = df_leads.drop_duplicates()"
   ]
  },
  {
   "cell_type": "code",
   "execution_count": null,
   "id": "2c4c5b1e",
   "metadata": {},
   "outputs": [],
   "source": [
    "if 'edad' in df_leads.columns:\n",
    "    df_leads['grupo_edad'] = pd.cut(df_leads['edad'], \n",
    "                             bins=[0, 25, 35, 45, 55, 100], \n",
    "                             labels=['18-25', '26-35', '36-45', '46-55', '56+'],\n",
    "                             right=False)"
   ]
  },
  {
   "cell_type": "code",
   "execution_count": null,
   "id": "bb72519e",
   "metadata": {},
   "outputs": [],
   "source": [
    "if 'presupuesto_estimado' in df_leads.columns:\n",
    "    df_leads['categoria_presupuesto'] = pd.cut(df_leads['presupuesto_estimado'], \n",
    "                                        bins=[0, 3000, 5000, 7000, 100000], \n",
    "                                        labels=['Bajo', 'Medio', 'Alto', 'Pro'],\n",
    "                                        right=False)"
   ]
  },
  {
   "cell_type": "code",
   "execution_count": null,
   "id": "64afa054",
   "metadata": {},
   "outputs": [],
   "source": [
    "if 'lead_score' in df_leads.columns:\n",
    "    df_leads['calidad_lead'] = pd.cut(df_leads['lead_score'], \n",
    "                               bins=[0, 40, 60, 80, 100], \n",
    "                               labels=['Bajo', 'Medio', 'Alto', 'Excelente'],\n",
    "                               right=False)"
   ]
  },
  {
   "cell_type": "code",
   "execution_count": null,
   "id": "e595ebc9",
   "metadata": {},
   "outputs": [],
   "source": [
    "df_leads.info()"
   ]
  },
  {
   "cell_type": "markdown",
   "id": "e286a966",
   "metadata": {},
   "source": [
    "# Analizamos los datos del fichero 'Cursos'"
   ]
  },
  {
   "cell_type": "code",
   "execution_count": null,
   "id": "2050e47d",
   "metadata": {},
   "outputs": [],
   "source": [
    "df_cursos = pd.read_csv('../data/Cursos.csv',\n",
    "                          sep=';',\n",
    "                          header=0,\n",
    "                          index_col=False,\n",
    "                          encoding='utf-8')"
   ]
  },
  {
   "cell_type": "code",
   "execution_count": null,
   "id": "0b7b3f0d",
   "metadata": {},
   "outputs": [],
   "source": [
    "df_cursos"
   ]
  },
  {
   "cell_type": "code",
   "execution_count": null,
   "id": "7f8d958a",
   "metadata": {},
   "outputs": [],
   "source": [
    "df_cursos = df_cursos.dropna(subset=['Curso ID'])\n",
    "df_cursos = df_cursos.dropna(how='all')"
   ]
  },
  {
   "cell_type": "code",
   "execution_count": null,
   "id": "a003aa4a",
   "metadata": {},
   "outputs": [],
   "source": [
    "df_cursos"
   ]
  },
  {
   "cell_type": "code",
   "execution_count": null,
   "id": "ba24724d",
   "metadata": {},
   "outputs": [],
   "source": [
    "text_columns = ['Nombre', 'Modalidad', 'Tecnologias', 'Nivel', 'Requisitos previos', 'Descripción', 'Certificación oficial']\n",
    "for col in text_columns:\n",
    "    if col in df_cursos.columns:\n",
    "        df_cursos[col] = df_cursos[col].astype(str).str.strip().str.replace(r'\\s+', ' ', regex=True)"
   ]
  },
  {
   "cell_type": "code",
   "execution_count": null,
   "id": "7b6ad76b",
   "metadata": {},
   "outputs": [],
   "source": [
    "df_cursos.shape"
   ]
  },
  {
   "cell_type": "code",
   "execution_count": null,
   "id": "715e4182",
   "metadata": {},
   "outputs": [],
   "source": [
    "df_cursos.info()"
   ]
  },
  {
   "cell_type": "code",
   "execution_count": null,
   "id": "533d81b0",
   "metadata": {},
   "outputs": [],
   "source": [
    "numeric_columns = ['Duracion meses', 'Horas totales', 'Precio base', 'Precio descuento', \n",
    "                  'Plazas disponibles', 'Rating', 'Empleabilidad']\n",
    "\n",
    "for col in numeric_columns:\n",
    "    if col in df_cursos.columns:\n",
    "        df_cursos[col] = pd.to_numeric(df_cursos[col], errors='coerce')"
   ]
  },
  {
   "cell_type": "code",
   "execution_count": null,
   "id": "7e6fafec",
   "metadata": {},
   "outputs": [],
   "source": [
    "if 'Fecha inicio proxima' in df_cursos.columns:\n",
    "        df_cursos['Fecha inicio proxima'] = pd.to_datetime(df_cursos['Fecha inicio proxima'], errors='coerce')\n",
    "        df_cursos['Fecha inicio proxima'] = df_cursos['Fecha inicio proxima'].dt.strftime('%Y-%m-%d')\n"
   ]
  },
  {
   "cell_type": "code",
   "execution_count": null,
   "id": "a54bd77f",
   "metadata": {},
   "outputs": [],
   "source": [
    "if 'Precio base' in df_cursos.columns and 'Precio descuento' in df_cursos.columns:\n",
    "    df_cursos['Descuento_porcentaje'] = ((df_cursos['Precio base'] - df_cursos['Precio descuento']) / df_cursos['Precio base'] * 100).round(2)"
   ]
  },
  {
   "cell_type": "code",
   "execution_count": null,
   "id": "a313ef4a",
   "metadata": {},
   "outputs": [],
   "source": [
    "if 'Horas totales' in df_cursos.columns and 'Duracion meses' in df_cursos.columns:\n",
    "    df_cursos['Horas_por_mes'] = (df_cursos['Horas totales'] / df_cursos['Duracion meses']).round(2)"
   ]
  },
  {
   "cell_type": "code",
   "execution_count": null,
   "id": "0bb81b3c",
   "metadata": {},
   "outputs": [],
   "source": [
    "if 'Precio base' in df_cursos.columns:\n",
    "    df_cursos['Categoria_precio'] = pd.cut(df_cursos['Precio base'], \n",
    "                                         bins=[0, 2000, 5000, float('inf')], \n",
    "                                         labels=['Económico', 'Medio', 'Pro'], \n",
    "                                         include_lowest=True)"
   ]
  },
  {
   "cell_type": "code",
   "execution_count": null,
   "id": "d5084beb",
   "metadata": {},
   "outputs": [],
   "source": [
    "df_cursos = df_cursos.reset_index(drop=True)\n"
   ]
  },
  {
   "cell_type": "code",
   "execution_count": null,
   "id": "b51c8851",
   "metadata": {},
   "outputs": [],
   "source": [
    "df_cursos"
   ]
  },
  {
   "cell_type": "markdown",
   "id": "c4776826",
   "metadata": {},
   "source": [
    "# Analizamos los datos del fichero 'Seguimiento'"
   ]
  },
  {
   "cell_type": "code",
   "execution_count": null,
   "id": "fd897db1",
   "metadata": {},
   "outputs": [],
   "source": [
    "df_seguimiento = pd.read_csv('../data/Seguimiento.csv',\n",
    "                          sep=';',\n",
    "                          header=0,\n",
    "                          index_col=False,\n",
    "                          encoding='utf-8')"
   ]
  },
  {
   "cell_type": "code",
   "execution_count": null,
   "id": "fa73708c",
   "metadata": {},
   "outputs": [],
   "source": [
    "df_seguimiento"
   ]
  },
  {
   "cell_type": "code",
   "execution_count": null,
   "id": "7d22549c",
   "metadata": {},
   "outputs": [],
   "source": [
    "df_seguimiento.info()"
   ]
  },
  {
   "cell_type": "code",
   "execution_count": null,
   "id": "21409b8f",
   "metadata": {},
   "outputs": [],
   "source": [
    "null_counts = df_seguimiento.isnull().sum()\n",
    "null_counts\n"
   ]
  },
  {
   "cell_type": "code",
   "execution_count": null,
   "id": "071a3a10",
   "metadata": {},
   "outputs": [],
   "source": [
    "columns_to_drop = ['irrelevante_1', 'irrelevante_2', 'irrelevante_3']\n",
    "df_seguimiento = df_seguimiento.drop(columns=columns_to_drop)"
   ]
  },
  {
   "cell_type": "code",
   "execution_count": null,
   "id": "5cf65c8e",
   "metadata": {},
   "outputs": [],
   "source": [
    "date_columns = ['fecha_ultima_interaccion', 'fecha_matricula', 'fecha_inicio_curso']\n",
    "for col in date_columns:\n",
    "    df_seguimiento[col] = pd.to_datetime(df_seguimiento[col], errors='coerce')"
   ]
  },
  {
   "cell_type": "code",
   "execution_count": null,
   "id": "5e70a791",
   "metadata": {},
   "outputs": [],
   "source": [
    "df_seguimiento.info()"
   ]
  },
  {
   "cell_type": "code",
   "execution_count": null,
   "id": "384ef857",
   "metadata": {},
   "outputs": [],
   "source": [
    "boolean_columns = ['conversion', 'cambio_curso', 'financiacion']\n",
    "for col in boolean_columns:\n",
    "    df_seguimiento[col] = df_seguimiento[col].astype(bool)\n"
   ]
  },
  {
   "cell_type": "code",
   "execution_count": null,
   "id": "645f0596",
   "metadata": {},
   "outputs": [],
   "source": [
    "numeric_columns = ['num_interacciones', 'duracion_proceso_dias', 'descuento_aplicado', 'precio_final', 'probabilidad_retorno', 'valoracion_experiencia']\n",
    "for col in numeric_columns:\n",
    "    df_seguimiento[col] = df_seguimiento[col].astype(str)\n",
    "    df_seguimiento[col] = df_seguimiento[col].str.strip()\n",
    "    df_seguimiento[col] = df_seguimiento[col].replace(['', 'nan', 'null', 'None'], np.nan)\n",
    "    df_seguimiento[col] = pd.to_numeric(df_seguimiento[col], errors='coerce')\n"
   ]
  },
  {
   "cell_type": "code",
   "execution_count": null,
   "id": "5c9d2a05",
   "metadata": {},
   "outputs": [],
   "source": [
    "df_seguimiento['estado_final'] = df_seguimiento['estado_final'].str.strip().str.title()\n"
   ]
  },
  {
   "cell_type": "code",
   "execution_count": null,
   "id": "cf808dd1",
   "metadata": {},
   "outputs": [],
   "source": [
    "print(df_seguimiento['estado_final'].value_counts())\n"
   ]
  },
  {
   "cell_type": "code",
   "execution_count": null,
   "id": "90691119",
   "metadata": {},
   "outputs": [],
   "source": [
    "df_seguimiento['metodo_pago'] = df_seguimiento['metodo_pago'].str.strip().str.title()"
   ]
  },
  {
   "cell_type": "code",
   "execution_count": null,
   "id": "78700236",
   "metadata": {},
   "outputs": [],
   "source": [
    "print(df_seguimiento['metodo_pago'].value_counts())"
   ]
  },
  {
   "cell_type": "code",
   "execution_count": null,
   "id": "5916109a",
   "metadata": {},
   "outputs": [],
   "source": [
    "df_seguimiento['modalidad_final'] = df_seguimiento['modalidad_final'].str.strip().str.title()"
   ]
  },
  {
   "cell_type": "code",
   "execution_count": null,
   "id": "c869ce39",
   "metadata": {},
   "outputs": [],
   "source": [
    "print(df_seguimiento['modalidad_final'].value_counts())"
   ]
  },
  {
   "cell_type": "code",
   "execution_count": null,
   "id": "4509b9db",
   "metadata": {},
   "outputs": [],
   "source": [
    "nombre_columns = ['comercial', 'closer']\n",
    "for col in nombre_columns:\n",
    "    df_seguimiento[col] = df_seguimiento[col].str.strip().str.title()"
   ]
  },
  {
   "cell_type": "code",
   "execution_count": null,
   "id": "5e01da1d",
   "metadata": {},
   "outputs": [],
   "source": [
    "numeric_columns_for_validation = ['num_interacciones', 'duracion_proceso_dias', 'descuento_aplicado', 'precio_final', 'probabilidad_retorno', 'valoracion_experiencia']\n",
    "for col in numeric_columns_for_validation:\n",
    "    negative_count = df_seguimiento[df_seguimiento[col] < 0].shape[0]\n",
    "    if negative_count > 0:\n",
    "        df_seguimiento.loc[df_seguimiento[col] < 0, col] = np.nan"
   ]
  },
  {
   "cell_type": "code",
   "execution_count": null,
   "id": "9e1cd182",
   "metadata": {},
   "outputs": [],
   "source": [
    "initial_rows = len(df_seguimiento)\n",
    "df_seguimiento = df_seguimiento.drop_duplicates(subset=['seguimiento_id'], keep='first')\n",
    "final_rows = len(df_seguimiento)\n",
    "duplicates_removed = initial_rows - final_rows"
   ]
  },
  {
   "cell_type": "markdown",
   "id": "6e49c97f",
   "metadata": {},
   "source": [
    "# Analizamos los datos del fichero 'Primer contacto'"
   ]
  },
  {
   "cell_type": "code",
   "execution_count": null,
   "id": "15585e5c",
   "metadata": {},
   "outputs": [],
   "source": [
    "df_contacto = pd.read_csv('../data/Primer contacto.csv',\n",
    "                          sep=';',\n",
    "                          header=0,\n",
    "                          index_col=False,\n",
    "                          encoding='utf-8')"
   ]
  },
  {
   "cell_type": "code",
   "execution_count": null,
   "id": "bcf861f6",
   "metadata": {},
   "outputs": [],
   "source": [
    "df_contacto.info()"
   ]
  },
  {
   "cell_type": "code",
   "execution_count": null,
   "id": "79695ba0",
   "metadata": {},
   "outputs": [],
   "source": [
    "datos_nulos = df_contacto.isnull().sum()"
   ]
  },
  {
   "cell_type": "code",
   "execution_count": null,
   "id": "1b073b72",
   "metadata": {},
   "outputs": [],
   "source": [
    "porcentaje = (datos_nulos / len(df_contacto)) * 100\n",
    "porcentaje"
   ]
  },
  {
   "cell_type": "code",
   "execution_count": null,
   "id": "25dbc1b6",
   "metadata": {},
   "outputs": [],
   "source": [
    "df_contacto = df_contacto.drop(columns=['irrelevante_1', 'irrelevante_2', 'irrelevante_3'])\n"
   ]
  },
  {
   "cell_type": "code",
   "execution_count": null,
   "id": "60feb07d",
   "metadata": {},
   "outputs": [],
   "source": [
    "text_columns = ['medio_contacto', 'comercial', 'estado_contacto', 'objeciones_principales', \n",
    "                'notas_adicionales', 'interes_otros_cursos', 'areas_interes_adicional',\n",
    "                'preferencia_fecha_inicio', 'preferencia_financiacion', 'disponibilidad_horaria_detallada',\n",
    "                'conocimiento_competencia', 'referenciado_por', 'proxima_accion']\n",
    "for col in text_columns:\n",
    "    df_contacto[col] = df_contacto[col].astype(str).str.strip()\n",
    "    df_contacto[col] = df_contacto[col].str.replace(r'\\s+', ' ', regex=True)\n",
    "    df_contacto[col] = df_contacto[col].replace(['null', 'undefined', 'nan', 'n/a', 'na', 'none', 'nan'], np.nan)\n",
    " \n"
   ]
  },
  {
   "cell_type": "code",
   "execution_count": null,
   "id": "117da23b",
   "metadata": {},
   "outputs": [],
   "source": [
    "df_contacto['fecha_contacto'] = pd.to_datetime(df_contacto['fecha_contacto'], errors='coerce')\n",
    "df_contacto['fecha_proxima_accion'] = pd.to_datetime(df_contacto['fecha_proxima_accion'], errors='coerce')\n",
    "df_contacto['hora_contacto'] = pd.to_datetime(df_contacto['hora_contacto'], errors='coerce').dt.strftime('%H:%M')\n"
   ]
  },
  {
   "cell_type": "code",
   "execution_count": null,
   "id": "6d3b1861",
   "metadata": {},
   "outputs": [],
   "source": [
    "df_contacto['duracion_contacto_min'] = pd.to_numeric(df_contacto['duracion_contacto_min'], errors='coerce')\n",
    "df_contacto['nivel_interes'] = pd.to_numeric(df_contacto['nivel_interes'], errors='coerce')\n",
    "df_contacto['presupuesto_confirmado'] = pd.to_numeric(df_contacto['presupuesto_confirmado'], errors='coerce')"
   ]
  },
  {
   "cell_type": "code",
   "execution_count": null,
   "id": "3a3b0a08",
   "metadata": {},
   "outputs": [],
   "source": [
    "df_contacto['duracion_contacto_min'].fillna(df_contacto['duracion_contacto_min'].median(), inplace=True)\n",
    "df_contacto['nivel_interes'].fillna(df_contacto['nivel_interes'].median(), inplace=True)"
   ]
  },
  {
   "cell_type": "code",
   "execution_count": null,
   "id": "51385be8",
   "metadata": {},
   "outputs": [],
   "source": [
    "columnas_rellenar = ['presupuesto_confirmado', 'medio_contacto', 'comercial', 'estado_contacto', 'objeciones_principales', \n",
    "                    'notas_adicionales', 'interes_otros_cursos', 'areas_interes_adicional',\n",
    "                    'preferencia_fecha_inicio', 'preferencia_financiacion', 'disponibilidad_horaria_detallada',\n",
    "                    'conocimiento_competencia', 'referenciado_por', 'proxima_accion']\n",
    "\n",
    "for col in columnas_rellenar:\n",
    "    df_contacto[col].fillna('No especificado', inplace=True)"
   ]
  },
  {
   "cell_type": "code",
   "execution_count": null,
   "id": "c00f5782",
   "metadata": {},
   "outputs": [],
   "source": [
    "df_contacto = df_contacto.drop_duplicates(keep='first')"
   ]
  },
  {
   "cell_type": "code",
   "execution_count": null,
   "id": "471cf314",
   "metadata": {},
   "outputs": [],
   "source": [
    "df_contacto['duracion_contacto_min'] = df_contacto['duracion_contacto_min'].astype(int)\n",
    "df_contacto['nivel_interes'] = df_contacto['nivel_interes'].astype(int)"
   ]
  },
  {
   "cell_type": "code",
   "execution_count": null,
   "id": "08597844",
   "metadata": {},
   "outputs": [],
   "source": [
    "df_contacto.info()"
   ]
  },
  {
   "cell_type": "code",
   "execution_count": null,
   "id": "9552d742",
   "metadata": {},
   "outputs": [],
   "source": [
    "df_contacto"
   ]
  },
  {
   "cell_type": "code",
   "execution_count": null,
   "id": "8113c5d6",
   "metadata": {},
   "outputs": [],
   "source": [
    "df_leads.to_csv('../data_clean/leads_limpio.csv', sep=';', index=False)\n",
    "df_cursos.to_csv('../data_clean/cursos_limpio.csv', sep=';', index=False)\n",
    "df_seguimiento.to_csv('../data_clean/seguimiento_limpio.csv', sep=';', index=False)\n",
    "df_contacto.to_csv('../data_clean/primer_contacto_limpio.csv', sep=';', index=False)"
   ]
  }
 ],
 "metadata": {
  "kernelspec": {
   "display_name": ".venv",
   "language": "python",
   "name": "python3"
  },
  "language_info": {
   "codemirror_mode": {
    "name": "ipython",
    "version": 3
   },
   "file_extension": ".py",
   "mimetype": "text/x-python",
   "name": "python",
   "nbconvert_exporter": "python",
   "pygments_lexer": "ipython3",
   "version": "3.12.5"
  }
 },
 "nbformat": 4,
 "nbformat_minor": 5
}
